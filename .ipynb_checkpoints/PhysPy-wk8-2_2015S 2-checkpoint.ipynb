{
 "cells": [
  {
   "cell_type": "markdown",
   "metadata": {},
   "source": [
    "# Topics\n",
    "\n",
    "## 1. Random Numbers and Histogram\n",
    "## 2. Monte Carlo"
   ]
  },
  {
   "cell_type": "markdown",
   "metadata": {
    "collapsed": false
   },
   "source": [
    "## random numbers and histogram\n",
    "### Distributions\n",
    "### 1. Uniform\n",
    "### 2. Gaussian\n",
    "### 3. Poisson"
   ]
  },
  {
   "cell_type": "markdown",
   "metadata": {},
   "source": [
    "## Random Number with Different Distribution and Plotting the Histogram"
   ]
  },
  {
   "cell_type": "code",
   "execution_count": 141,
   "metadata": {
    "collapsed": false
   },
   "outputs": [
    {
     "name": "stdout",
     "output_type": "stream",
     "text": [
      "n (normalized height, or probability density): [  6.13666703e-08   3.06833351e-08   3.98883357e-07   8.89816719e-07\n",
      "   2.51603348e-06   6.38213371e-06   1.32858841e-05   3.22175019e-05\n",
      "   7.12467042e-05   1.40989925e-04   2.82900350e-04   5.30484181e-04\n",
      "   9.57043906e-04   1.62207451e-03   2.64336932e-03   4.12399366e-03\n",
      "   6.11371589e-03   8.65506312e-03   1.17170145e-02   1.51209317e-02\n",
      "   1.85714261e-02   2.17879294e-02   2.43865625e-02   2.59761433e-02\n",
      "   2.65617348e-02   2.57766096e-02   2.38752860e-02   2.12028289e-02\n",
      "   1.78950120e-02   1.44084032e-02   1.10805808e-02   8.12709498e-03\n",
      "   5.68049788e-03   3.80326076e-03   2.41253859e-03   1.46574292e-03\n",
      "   8.40079032e-04   4.67031044e-04   2.50376015e-04   1.24236824e-04\n",
      "   5.82369701e-05   2.66945016e-05   1.17210340e-05   5.15480030e-06\n",
      "   2.14783346e-06   9.20500054e-07   3.06833351e-07   1.53416676e-07\n",
      "   0.00000000e+00   3.06833351e-08] 50\n",
      "bins (locations of bin edges): [  20.48350945   23.74260758   27.0017057    30.26080383   33.51990196\n",
      "   36.77900008   40.03809821   43.29719633   46.55629446   49.81539258\n",
      "   53.07449071   56.33358883   59.59268696   62.85178508   66.11088321\n",
      "   69.36998134   72.62907946   75.88817759   79.14727571   82.40637384\n",
      "   85.66547196   88.92457009   92.18366821   95.44276634   98.70186446\n",
      "  101.96096259  105.22006072  108.47915884  111.73825697  114.99735509\n",
      "  118.25645322  121.51555134  124.77464947  128.03374759  131.29284572\n",
      "  134.55194384  137.81104197  141.0701401   144.32923822  147.58833635\n",
      "  150.84743447  154.1065326   157.36563072  160.62472885  163.88382697\n",
      "  167.1429251   170.40202322  173.66112135  176.92021948  180.1793176\n",
      "  183.43841573] 51\n"
     ]
    },
    {
     "data": {
      "image/png": "[encoded data removed]",
      "text/plain": [
       "<matplotlib.figure.Figure at 0x11073c550>"
      ]
     },
     "metadata": {},
     "output_type": "display_data"
    }
   ],
   "source": [
    "%matplotlib inline\n",
    "'''Histogram Plot'''\n",
    "\n",
    "import numpy as np\n",
    "import matplotlib.pyplot as plt\n",
    "\n",
    "avg = 100.\n",
    "sig = 15.\n",
    "\n",
    "num_pts = 10000000\n",
    "\n",
    "x = np.random.randn(num_pts)*sig + avg\n",
    "fig = plt.figure()\n",
    "ax = fig.add_subplot(111)\n",
    "\n",
    "# the histogram of the data\n",
    "\n",
    "Nbins = 50\n",
    "# normed=1: the total area adds up to 1; # alpha: level of tranparency.\n",
    "n, bins, patches = ax.hist(x, Nbins, normed=1, facecolor='green', alpha=.5)\n",
    "print 'n (normalized height, or probability density):', n, len(n)\n",
    "print 'bins (locations of bin edges):', bins, len(bins)\n",
    "\n",
    "# hist uses np.histogram under the hood to create 'n' and 'bins'.\n",
    "# np.histogram returns the bin edges, so there will be Nbin probability\n",
    "# density values (n), Nbin+1 bin edges (bins), and finally, Nbin patches.\n",
    "\n",
    "ax.set_xlabel('IQ')\n",
    "ax.set_ylabel('Probability')\n",
    "# The is Latex, a typsetting \"program\".\n",
    "ax.set_title(r'$\\mathrm{Histogram\\ of\\ IQ:}\\ \\mu=100,\\ \\sigma=15$')\n",
    "# Pay attention to how the x and y axis limits are set.\n",
    "ax.set_xlim(0, 200)\n",
    "ax.set_ylim(0, 0.03)\n",
    "#ax.grid(True)\n",
    "\n",
    "plt.show()\n"
   ]
  },
  {
   "cell_type": "markdown",
   "metadata": {},
   "source": [
    "## What percentage of the population have IQ 1-sigma, 2-sigma, and 3-sigma above the mean?\n",
    "## Verify your number using the Gaussian random variables generated above.\n",
    "## What's the probability of finding someone with an IQ of 180?  How many such people are there in the US?"
   ]
  },
  {
   "cell_type": "code",
   "execution_count": null,
   "metadata": {
    "collapsed": true
   },
   "outputs": [],
   "source": [
    "x "
   ]
  },
  {
   "cell_type": "markdown",
   "metadata": {},
   "source": [
    "## Plot a histogram for 10000 number generated with np.random.rand()"
   ]
  },
  {
   "cell_type": "markdown",
   "metadata": {},
   "source": [
    "## Integration"
   ]
  },
  {
   "cell_type": "markdown",
   "metadata": {},
   "source": [
    "## Find the value of pi with MC"
   ]
  },
  {
   "cell_type": "markdown",
   "metadata": {
    "collapsed": false
   },
   "source": [
    "## End of wk8-2"
   ]
  }
 ],
 "metadata": {
  "kernelspec": {
   "display_name": "Python 2",
   "language": "python",
   "name": "python2"
  },
  "language_info": {
   "codemirror_mode": {
    "name": "ipython",
    "version": 2
   },
   "file_extension": ".py",
   "mimetype": "text/x-python",
   "name": "python",
   "nbconvert_exporter": "python",
   "pygments_lexer": "ipython2",
   "version": "2.7.9"
  }
 },
 "nbformat": 4,
 "nbformat_minor": 0
}
