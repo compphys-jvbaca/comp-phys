{
 "cells": [
  {
   "cell_type": "markdown",
   "metadata": {},
   "source": [
    "# Topics\n",
    "\n",
    "## 1. Image Manipulation\n",
    "\n"
   ]
  },
  {
   "cell_type": "markdown",
   "metadata": {},
   "source": [
    "## On your home machines, do\n",
    "\\> pip install --\n",
    "\\> pip install scikit-image"
   ]
  },
  {
   "cell_type": "markdown",
   "metadata": {},
   "source": [
    "## An image in Python is no more or less than a 2D numpy array!"
   ]
  },
  {
   "cell_type": "code",
   "execution_count": null,
   "metadata": {
    "collapsed": false
   },
   "outputs": [],
   "source": [
    "%matplotlib inline\n",
    "'''\n",
    "\n",
    "A RGBA images -- with four channels.  The last one, the \"alpha-channel\", allows for transparency, \n",
    "\n",
    "'''\n",
    "\n",
    "\n",
    "import matplotlib.image as mpimg\n",
    "import matplotlib.pyplot as plt\n",
    "\n",
    "moon_im=mpimg.imread('moon.gif')\n",
    "print type(moon_im), moon_im.shape, moon_im.dtype\n",
    "plt.imshow(moon_im)\n",
    "\n",
    "plt.show()"
   ]
  },
  {
   "cell_type": "code",
   "execution_count": null,
   "metadata": {
    "collapsed": false
   },
   "outputs": [],
   "source": [
    "from copy import copy\n",
    "print moon_im[:5,:5, 3]\n",
    "moon_copy = copy(moon_im)\n",
    "moon_copy[:,:,3] = 127\n",
    "\n",
    "plt.imshow(moon_copy)\n",
    "plt.show()"
   ]
  },
  {
   "cell_type": "code",
   "execution_count": null,
   "metadata": {
    "collapsed": false
   },
   "outputs": [],
   "source": [
    "'''\n",
    "Let's pick one channel, say R\n",
    "\n",
    "Shown in false color\n",
    "\n",
    "'''\n",
    "\n",
    "moon = moon_im[:, :, 0]\n",
    "plt.imshow(moon)\n",
    "plt.show()"
   ]
  },
  {
   "cell_type": "code",
   "execution_count": null,
   "metadata": {
    "collapsed": false
   },
   "outputs": [],
   "source": [
    "import matplotlib.cm as cm\n",
    "plt.imshow(moon, cmap = cm.Greys_r)\n",
    "plt.show()\n"
   ]
  },
  {
   "cell_type": "code",
   "execution_count": null,
   "metadata": {
    "collapsed": false
   },
   "outputs": [],
   "source": [
    "lena = mpimg.imread('lena512.jpg')\n",
    "print type(lena), lena.shape, lena.dtype\n",
    "plt.imshow(lena,  cmap = cm.Greys_r)\n",
    "plt.show()"
   ]
  },
  {
   "cell_type": "code",
   "execution_count": null,
   "metadata": {
    "collapsed": false
   },
   "outputs": [],
   "source": [
    "'''Blending'''\n",
    "# To avoid saturation (just as for sound)\n",
    "fac = 0.25\n",
    "\n",
    "blend = fac*lena + (1-fac)*moon\n",
    "plt.imshow(blend,  cmap = cm.Greys_r)\n",
    "plt.show()"
   ]
  },
  {
   "cell_type": "code",
   "execution_count": null,
   "metadata": {
    "collapsed": false
   },
   "outputs": [],
   "source": [
    "x = np.arange(10)\n",
    "x_new = np.roll(x, 2)\n",
    "print x_new"
   ]
  },
  {
   "cell_type": "code",
   "execution_count": null,
   "metadata": {
    "collapsed": false
   },
   "outputs": [],
   "source": [
    "A = lena.shape[0] / 3.0\n",
    "w = 2.0 / lena.shape[1]\n",
    "\n",
    "shift = lambda x: A * np.sin(2.0*np.pi*x*w)\n",
    "\n",
    "for i in range(lena.shape[0]):\n",
    "    lena[:,i] = np.roll(lena[:,i], int(shift(i)))\n",
    "\n",
    "plt.imshow(lena, cmap=plt.cm.gray)\n",
    "plt.show()"
   ]
  },
  {
   "cell_type": "code",
   "execution_count": null,
   "metadata": {
    "collapsed": false
   },
   "outputs": [],
   "source": [
    "from skimage.transform import warp\n",
    "def shift_left(xy):\n",
    "    xy[:, 0] += 100\n",
    "    return xy\n",
    "\n",
    "\n",
    "lena_shift = warp(lena, shift_left)\n",
    "plt.imshow(lena_shift, cmap=plt.cm.gray)\n",
    "plt.show()"
   ]
  },
  {
   "cell_type": "markdown",
   "metadata": {},
   "source": [
    "## Breakout: Simulate Fish Eye Lens:\n",
    "## r = 0.8 * exp(r^(1/2.1) / 1.8)\n",
    "source: http://wiki.panotools.org/Fisheye_Projection"
   ]
  }
 ],
 "metadata": {
  "kernelspec": {
   "display_name": "Python 2",
   "language": "python",
   "name": "python2"
  },
  "language_info": {
   "codemirror_mode": {
    "name": "ipython",
    "version": 2
   },
   "file_extension": ".py",
   "mimetype": "text/x-python",
   "name": "python",
   "nbconvert_exporter": "python",
   "pygments_lexer": "ipython2",
   "version": "2.7.9"
  }
 },
 "nbformat": 4,
 "nbformat_minor": 0
}
