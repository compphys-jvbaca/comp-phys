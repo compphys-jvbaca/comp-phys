{
 "cells": [
  {
   "cell_type": "markdown",
   "metadata": {},
   "source": [
    "# Topics\n",
    "## 1. Class: Assignment vs. Instantiaion\n",
    "\n",
    "## 2. String Methods\n",
    "\n",
    "\n",
    "\n",
    "## 3. HTML and Retrieving Data from the Web\n"
   ]
  },
  {
   "cell_type": "markdown",
   "metadata": {},
   "source": [
    "## If a class f is defined, the difference between \n",
    "\n",
    "## g = f \n",
    "\n",
    "## and \n",
    "\n",
    "## g = f()"
   ]
  },
  {
   "cell_type": "code",
   "execution_count": 1,
   "metadata": {
    "collapsed": false
   },
   "outputs": [
    {
     "data": {
      "text/plain": [
       "27.0"
      ]
     },
     "execution_count": 1,
     "metadata": {},
     "output_type": "execute_result"
    }
   ],
   "source": [
    "class f:\n",
    "    def __init__(self, a = 3.):\n",
    "        self.a = a\n",
    "    def __call__(self, x):\n",
    "        return self.a*x**2\n",
    "fun = f()\n",
    "fun(3)"
   ]
  },
  {
   "cell_type": "code",
   "execution_count": 2,
   "metadata": {
    "collapsed": false
   },
   "outputs": [
    {
     "data": {
      "text/plain": [
       "48.0"
      ]
     },
     "execution_count": 2,
     "metadata": {},
     "output_type": "execute_result"
    }
   ],
   "source": [
    "g = f\n",
    "gun = g()\n",
    "gun(4)"
   ]
  },
  {
   "cell_type": "markdown",
   "metadata": {},
   "source": [
    "## Basic String Methods\n",
    "\n",
    "### See https://docs.python.org/2/library/string.html"
   ]
  },
  {
   "cell_type": "code",
   "execution_count": null,
   "metadata": {
    "collapsed": true
   },
   "outputs": [],
   "source": [
    "# A string a list\n",
    "words = 'The World is changed.\\n'\n",
    "for c in words:\n",
    "    print c\n",
    "    \n",
    "print 'Number of elements in words:', len(words)\n",
    "## But this is often not the most useful way to parse (take apart) a string."
   ]
  },
  {
   "cell_type": "code",
   "execution_count": null,
   "metadata": {
    "collapsed": true
   },
   "outputs": [],
   "source": [
    "# The split() method\n",
    "words = 'The World is changed.\\n'\n",
    "words = words.split()\n",
    "print words, type(words)   ## the formatting character \\n has been removed."
   ]
  },
  {
   "cell_type": "markdown",
   "metadata": {},
   "source": [
    "##Other important methods:\n",
    "\n",
    "### str.join():\n",
    "\n",
    "### str.split([delimiter]):  can be used with or without the delimiter specified\n",
    "\n",
    "###str.strip(): with the leading and trailing white space characters removed, including new lines.\n",
    "\n",
    "### str.replace(): \n",
    "\n",
    "\n",
    "### The full list:\n",
    "\n",
    "### https://docs.python.org/2/library/stdtypes.html#string-methods"
   ]
  },
  {
   "cell_type": "code",
   "execution_count": 2,
   "metadata": {
    "collapsed": false
   },
   "outputs": [
    {
     "name": "stdout",
     "output_type": "stream",
     "text": [
      "h-e-l-l-o- -w-o-r-l-d\n"
     ]
    }
   ],
   "source": [
    "str1 = '-'\n",
    "str2 = 'hello world'\n",
    "strg = str1.join(str2)\n",
    "print strg"
   ]
  },
  {
   "cell_type": "code",
   "execution_count": 4,
   "metadata": {
    "collapsed": false
   },
   "outputs": [
    {
     "name": "stdout",
     "output_type": "stream",
     "text": [
      "whelloohellorhellolhellod\n"
     ]
    }
   ],
   "source": [
    "str1 = 'hello'\n",
    "str2 = 'world'\n",
    "strg = str1.join(str2)\n",
    "print strg   # note: it doesn't do what you might think it would do!"
   ]
  },
  {
   "cell_type": "code",
   "execution_count": 8,
   "metadata": {
    "collapsed": false
   },
   "outputs": [
    {
     "name": "stdout",
     "output_type": "stream",
     "text": [
      "s1: ['8,4.4,', '9,', '5.3'] 3\n",
      "8,4.4,\n",
      "9,\n",
      "5.3\n"
     ]
    }
   ],
   "source": [
    "strg = '  8,4.4,      9, 5.3   '\n",
    "# no delimiter specified, split uses the default delimiter: (consecutive) white space(s).\n",
    "s1 = strg.split()  \n",
    "print 's1:', s1, len(s1)\n",
    "for elem in s1:\n",
    "    print elem\n",
    "\n",
    "# Note: 1. All white spaces removed.\n",
    "#       2. First two number not separated because there was no white space between them."
   ]
  },
  {
   "cell_type": "code",
   "execution_count": 9,
   "metadata": {
    "collapsed": false
   },
   "outputs": [
    {
     "data": {
      "text/plain": [
       "'  8,4.4,      9, 5.3   '"
      ]
     },
     "execution_count": 9,
     "metadata": {},
     "output_type": "execute_result"
    }
   ],
   "source": [
    "'''What do you expect?'''\n",
    "strg = '  8,4.4,      9, 5.3   '\n",
    "s1 = ''.join(strg)\n",
    "s1 \n",
    "\n",
    "\n"
   ]
  },
  {
   "cell_type": "code",
   "execution_count": 10,
   "metadata": {
    "collapsed": false
   },
   "outputs": [
    {
     "name": "stdout",
     "output_type": "stream",
     "text": [
      "8,4.4,9,5.3\n",
      "['8', '4.4', '9', '5.3']\n"
     ]
    }
   ],
   "source": [
    "# joins every element (a string of characters) in the list with zero length string, \n",
    "# and makes a new string.\n",
    "\n",
    "s1 = ['8,4.4,', '9,', '5.3']\n",
    "s2 = ''.join(s1)    \n",
    "print s2\n",
    "# couldn't do this on s1 becaues it's a list of strings.\n",
    "print s2.split(',')  "
   ]
  },
  {
   "cell_type": "code",
   "execution_count": 17,
   "metadata": {
    "collapsed": false
   },
   "outputs": [
    {
     "data": {
      "text/plain": [
       "'8,4.4,9,5.3'"
      ]
     },
     "execution_count": 17,
     "metadata": {},
     "output_type": "execute_result"
    }
   ],
   "source": [
    "#putting two methods together:\n",
    "strg = '  8,4.4,      9, 5.3   '\n",
    "s1 = ''.join(strg.split())  # split() removes white spaces; \n",
    "                            # ''.join() makes a new string that is delimited by ','.\n",
    "s1\n",
    "\n"
   ]
  },
  {
   "cell_type": "code",
   "execution_count": 16,
   "metadata": {
    "collapsed": false
   },
   "outputs": [
    {
     "name": "stdout",
     "output_type": "stream",
     "text": [
      "- 1  = exp(i*PI )\n"
     ]
    }
   ],
   "source": [
    "# method upon method.\n",
    "strg = '  - 1  = exp(i*pi )      \\n'\n",
    "print strg.replace('pi', 'PI').strip()"
   ]
  },
  {
   "cell_type": "markdown",
   "metadata": {},
   "source": [
    "## HTML (from wikipedia):\n",
    "\n",
    "### HyperText Markup Language (HTML) is the main markup language for creating web pages and other information that can be displayed in a web browser.\n",
    "\n",
    "###HTML is written in the form of HTML elements consisting of tags enclosed in angle brackets (like < html >), within the web page content. HTML tags most commonly come in pairs like < h1 > and < /h1 >, although some tags, known as empty elements, are unpaired, for example < img >. The first tag in a pair is the start tag, the second tag is the end tag (they are also called opening tags and closing tags). In between these tags web designers can add text, tags, comments and other types of text-based content."
   ]
  },
  {
   "cell_type": "markdown",
   "metadata": {},
   "source": [
    "## URL: Uniform Resource Locator (or \"web address\")"
   ]
  },
  {
   "cell_type": "raw",
   "metadata": {},
   "source": [
    "Simple Example of html:\n",
    "\n",
    "\n",
    "<!--    Simple Example of html -->\n",
    "\n",
    "<!DOCTYPE html>\n",
    "<html>\n",
    "\n",
    "<body style=\"background-color:yellow;\">\n",
    "<h2 style=\"background-color:red;\">Popular Movies</h2>\n",
    "<!-- The <p> tag defines a paragraph. -->\n",
    "<p style=\"background-color:green;\">April</p>\n",
    "\n",
    "\n",
    "<table border=\"1\">\n",
    "  <tr>                      <!-- tr: table row -->\n",
    "    <th>Weekend</th>        <!-- th: table header -->\n",
    "    <th>Top Box Office</th>\n",
    "  </tr>\n",
    "  <tr>\n",
    "    <td>April 19</td>       <!-- td: table data -->\n",
    "    <td>Oblivion</td>\n",
    "  </tr>\n",
    "</table>\n",
    "\n",
    "<!--<img src=\"oblivion-poster.jpg\" width=\"350\" height=\"500\"></body>-->   \n",
    "<img src=\"http://filmonic.com/wp-content/uploads/2012/12/oblivion-movie-poster.jpg\" width=\"1000\" height=\"1500\">\n",
    "\n",
    "<!--The tag div carves out a section -->\n",
    "<div style=\"color:#0000FF\">\n",
    "<!--<div \"background-color:yellow;\">-->\t\n",
    "  <h3>This is another heading</h3>\n",
    "  <p>This is another paragraph.</p>\n",
    "</div>\n",
    "\n",
    "\n",
    "\n",
    "</body>\n",
    "\n",
    "</html>\n",
    "\n",
    "\n",
    "Instructions:\n",
    "\n",
    "1. Copy/paste and save the code as my.html. \n",
    "\n",
    "2. Open my.html in your browser:\n",
    "\n",
    "> open -a Google\\ Chrome my.html\n",
    "\n"
   ]
  },
  {
   "cell_type": "markdown",
   "metadata": {},
   "source": [
    "## Creating a temporary directory\n",
    "### At the terminal:\n",
    "\n",
    "\\> mkdir tmp"
   ]
  },
  {
   "cell_type": "code",
   "execution_count": 18,
   "metadata": {
    "collapsed": false
   },
   "outputs": [
    {
     "data": {
      "text/plain": [
       "True"
      ]
     },
     "execution_count": 18,
     "metadata": {},
     "output_type": "execute_result"
    }
   ],
   "source": [
    "'''Another way to creast a webpage'''\n",
    "\n",
    "html_data = \"\"\"<!DOCTYPE html>\n",
    "<html>\n",
    "\n",
    "<body style=\"background-color:yellow;\">\n",
    "<h2 style=\"background-color:red;\">Popular Movies</h2>\n",
    "<p style=\"background-color:green;\">April</p>\n",
    "\n",
    "\n",
    "<table border=\"1\">\n",
    "  <tr>                      <!-- tr: table row -->\n",
    "    <th>Weekend</th>\n",
    "    <th>Top Box Office</th>\n",
    "  </tr>\n",
    "  <tr>\n",
    "    <td>April 19</td>       <!-- td: table data -->\n",
    "    <td>Oblivion</td>\n",
    "  </tr>\n",
    "</table>\n",
    "\n",
    "<!--<img src=\"oblivion-poster.jpg\" width=\"350\" height=\"500\"></body>-->   \n",
    "<img src=\"http://filmonic.com/wp-content/uploads/2012/12/oblivion-movie-poster.jpg\" width=\"350\" height=\"500\">\n",
    "\n",
    "<!--The tag div carves out a section -->\n",
    "<div style=\"color:#0000FF\">\n",
    "<!--<div \"background-color:yellow;\">-->\t\n",
    "  <h3>This is another heading</h3>\n",
    "  <p>This is another paragraph.</p>\n",
    "</div>\n",
    "\n",
    "\n",
    "\n",
    "</body>\n",
    "\n",
    "</html>\"\"\"\n",
    "\n",
    "import webbrowser    # a new module.\n",
    "dir_path = \"/Users/xhuang22/Dropbox/Fa2015Teaching/PHYS301-CompPhys/code/Examples/\"\n",
    "filenm = dir_path + \"tmp/tmp.html\"                \n",
    "with open(filenm,\"w\") as f:\n",
    "    f.write(html_data)                      \n",
    "\n",
    "# file:/// analogous to http://\n",
    "webbrowser.open(\"file:///\" + filenm)     \n"
   ]
  },
  {
   "cell_type": "markdown",
   "metadata": {},
   "source": [
    "## Breakout Problem:\n",
    "\n",
    "### Top box office movie for the weekend of April 12, 2013, was \"42.\"  Extend the table and include a poster for 42.  Save the new file as tmp2.html."
   ]
  },
  {
   "cell_type": "markdown",
   "metadata": {},
   "source": [
    "## Two ways of accessing information on a webpage:\n",
    "\n",
    "### 1. Save the content in a html file (on your local hard drive), and open it later.\n",
    "### 2. Create a file object in your Python program and store the content there  (it will disappear as soon as python quits)."
   ]
  },
  {
   "cell_type": "code",
   "execution_count": 13,
   "metadata": {
    "collapsed": false
   },
   "outputs": [
    {
     "data": {
      "text/plain": [
       "True"
      ]
     },
     "execution_count": 13,
     "metadata": {},
     "output_type": "execute_result"
    }
   ],
   "source": [
    "# Method 1\n",
    "import webbrowser   \n",
    "import urllib\n",
    "url = 'http://weather.yahoo.com/united-states/california/san-francisco-2487956/'\n",
    "dir_path = \"/Users/xhuang22/Dropbox/Fa2015Teaching/PHYS301-CompPhys/code/Examples/\"\n",
    "filenm = dir_path + 'tmp/sf_weather.html'                \n",
    "\n",
    "urllib.urlretrieve(url, filename = filenm)\n",
    "# can now open sf_weather.html \n",
    "# -- and you can actually edit it if you want to change its appearance.\n",
    "\n",
    "# And if you want to see it:\n",
    "webbrowser.open(\"file:///\" + filenm)\n",
    "\n"
   ]
  },
  {
   "cell_type": "code",
   "execution_count": 19,
   "metadata": {
    "collapsed": false
   },
   "outputs": [
    {
     "name": "stdout",
     "output_type": "stream",
     "text": [
      "<type 'list'> 928 \n",
      "\n",
      "\n",
      "\n",
      "['<!DOCTYPE html>\\n', '<html id=\"Stencil\" lang=\"en-US\" xmlns:og=\"http://ogp.me/ns#\" xmlns:fb=\"http://www.facebook.com/2008/fbml\" class=\"H-100\">\\n', '    <head>\\n', '        <script>var t_headstart=new Date().getTime();</script>\\n', '        <meta http-equiv=\"content-type\" content=\"text/html; charset=UTF-8\"/>\\n', '\\t<title>San Francisco Weather Forecasts | Maps | News - Yahoo! Weather</title>\\n', '\\t<meta http-equiv=\"x-dns-prefetch-control\" content=\"on\"><link rel=\"dns-prefetch\" href=\"https://s.yimg.com\"><link rel=\"dns-prefetch\" href=\"//y3.analytics.yahoo.com\"><link rel=\"dns-prefetch\" href=\"//geo.query.yahoo.com\"><link rel=\"dns-prefetch\" href=\"//geo.yahoo.com\"><link rel=\"dns-prefetch\" href=\"//csc.beap.bc.yahoo.com\"><link rel=\"dns-prefetch\" href=\"//b.scorecardresearch.com\">\\n', '\\t<!--[if !IE]><!--><link rel=\"icon\" sizes=\"any\" mask href=\"https://s.yimg.com/os/mit/media/p/common/images/favicon_new-7483e38.svg\"><meta name=\"theme-color\" content=\"#400090\"><!--<![endif]--><!--[if !IE]><!--><link rel=\"alternate icon\" type=\"image/x-icon\" href=\"/favicon.ico\"/><!--<![endif]-->\\n', '\\t<meta name=\"description\" lang=\"en-US\" content=\"Home\"/>\\n', '\\t<link rel=\"canonical\" href=\"https://weather.yahoo.com/united-states/california/san-francisco-2487956/\"/>\\n']\n"
     ]
    }
   ],
   "source": [
    "###Method 2\n",
    "import urllib\n",
    "url = 'http://weather.yahoo.com/united-states/california/san-francisco-2487956/'\n",
    "infile = urllib.urlopen(url)      \n",
    "#print 'type of infile:', type(infile)  # here you have created a file like object.\n",
    "                                        # but it only exists only as long as the current python session;\n",
    "\n",
    "# the object infile is of type file and so has the method .readlines()                                    \n",
    "lines = infile.readlines()   \n",
    "infile.close()\n",
    "print type(lines), len(lines), '\\n\\n\\n'\n",
    "print lines[:10]\n",
    "# if you want to see every line\n",
    "# for line in lines:\n",
    "#     print line"
   ]
  },
  {
   "cell_type": "code",
   "execution_count": 82,
   "metadata": {
    "collapsed": false
   },
   "outputs": [
    {
     "data": {
      "text/plain": [
       "True"
      ]
     },
     "execution_count": 82,
     "metadata": {},
     "output_type": "execute_result"
    }
   ],
   "source": [
    "# still method 2, but with a new module: urllib2\n",
    "import urllib2 \n",
    "import re\n",
    "url = 'http://weather.yahoo.com/united-states/california/san-francisco-2487956/'\n",
    "infile = urllib2.urlopen(url) \n",
    "weather_html_text = infile.read()   #here I used .read() so there you can see it with webbrowser.open() below.\n",
    "infile.close() \n",
    "# print html_weather_data[45000:47000]   #[45000:47000] -- the characters between\n",
    "                                         # the 45000th and 46999th.\n",
    "\n",
    "dir_path = \"/Users/xhuang22/Dropbox/Fa2015Teaching/PHYS301-CompPhys/code/Examples/\"\n",
    "filenm = dir_path + 'tmp/tmp3.html'                \n",
    "\n",
    "# it is true that I haven't closed this file.  Horrors! \n",
    "# it's for the expediency of one-liners.\n",
    "open(filenm,\"w\").write(weather_html_text)  \n",
    "\n",
    "# if one wants to open the file in a browser\n",
    "webbrowser.open(\"file:///\" + filenm)\n",
    "\n",
    "\n"
   ]
  },
  {
   "cell_type": "markdown",
   "metadata": {},
   "source": [
    "## Breakout Excercise:\n",
    "\n",
    "### Extract the high and temperatures from weather_html_text in Fahrenheit (say they are 65 an 54), and print out a statement like this: \n",
    "\n",
    "High and low temperatures are 65 and 54."
   ]
  },
  {
   "cell_type": "markdown",
   "metadata": {},
   "source": [
    "## End of wk 7-1"
   ]
  }
 ],
 "metadata": {
  "kernelspec": {
   "display_name": "Python 2",
   "language": "python",
   "name": "python2"
  },
  "language_info": {
   "codemirror_mode": {
    "name": "ipython",
    "version": 2
   },
   "file_extension": ".py",
   "mimetype": "text/x-python",
   "name": "python",
   "nbconvert_exporter": "python",
   "pygments_lexer": "ipython2",
   "version": "2.7.9"
  }
 },
 "nbformat": 4,
 "nbformat_minor": 0
}
