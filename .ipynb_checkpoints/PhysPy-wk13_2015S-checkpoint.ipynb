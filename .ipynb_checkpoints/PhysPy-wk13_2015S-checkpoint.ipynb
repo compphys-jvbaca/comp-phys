{
 "cells": [
  {
   "cell_type": "markdown",
   "metadata": {},
   "source": [
    "# Topics\n",
    "\n",
    "\n",
    "## 1. Image Manipulation -- back to some unresolved issues \n",
    "###     i)   arctan2 vs. arctan\n",
    "###     ii)  Explain numpy.column_stack()\n",
    "###     iii)  What xy is in the function for warp()\n"
   ]
  },
  {
   "cell_type": "markdown",
   "metadata": {},
   "source": [
    "## i) np.arctan() vs np. np.arctan2()"
   ]
  },
  {
   "cell_type": "code",
   "execution_count": 3,
   "metadata": {
    "collapsed": false
   },
   "outputs": [
    {
     "name": "stdout",
     "output_type": "stream",
     "text": [
      "[ 45. -45.  45. -45.]\n"
     ]
    }
   ],
   "source": [
    "'''np.arctan(y/x) only gives angles beween -90 and +90.\n",
    "\n",
    "depending on the sign of (y/x).  If (y/x) < 0, it doesn't make the distinction  \n",
    "\n",
    "between whether x < 0 or y < 0.  Put it another way, it doesn't know \n",
    "\n",
    "about 2nd and 3rd quandrants.\n",
    "'''\n",
    "\n",
    "import numpy as np\n",
    "\n",
    "x = np.array([-1, +1, +1, -1])\n",
    "y = np.array([-1, -1, +1, +1])\n",
    "ang = np.arctan(y/x) * 180. / np.pi\n",
    "print ang"
   ]
  },
  {
   "cell_type": "code",
   "execution_count": 4,
   "metadata": {
    "collapsed": false
   },
   "outputs": [
    {
     "name": "stdout",
     "output_type": "stream",
     "text": [
      "[-135.  -45.   45.  135.]\n"
     ]
    }
   ],
   "source": [
    "'''\n",
    "np.arctan2(y, x) is much more intelligent...\n",
    "\n",
    "But note the syntactical difference between np.arctan and np.arctan2.\n",
    "\n",
    "I would recommend to exclusively use np.arctan2() to avoid possible \n",
    "mis-identification of quadrants.\n",
    "\n",
    "'''\n",
    "\n",
    "import numpy as np\n",
    "\n",
    "x = np.array([-1, +1, +1, -1])\n",
    "y = np.array([-1, -1, +1, +1])\n",
    "ang2 = np.arctan2(y, x) * 180 / np.pi\n",
    "print ang2"
   ]
  },
  {
   "cell_type": "markdown",
   "metadata": {},
   "source": [
    "## ii) Difference between np.concatenate(), np.column_stack(), np.row_stack()"
   ]
  },
  {
   "cell_type": "code",
   "execution_count": 5,
   "metadata": {
    "collapsed": false
   },
   "outputs": [
    {
     "name": "stdout",
     "output_type": "stream",
     "text": [
      "a: [0 1 2 3 4 5 6 7 8 9]\n",
      "b: [ 0  2  4  6  8 10 12 14 16 18]\n",
      "concat shape (20,)\n",
      "concat: [ 0  1  2  3  4  5  6  7  8  9  0  2  4  6  8 10 12 14 16 18]\n",
      "col_stack shape: (10, 2)\n",
      "col_stack:\n",
      "[[ 0  0]\n",
      " [ 1  2]\n",
      " [ 2  4]\n",
      " [ 3  6]\n",
      " [ 4  8]\n",
      " [ 5 10]\n",
      " [ 6 12]\n",
      " [ 7 14]\n",
      " [ 8 16]\n",
      " [ 9 18]]\n"
     ]
    }
   ],
   "source": [
    "a = np.arange(10)\n",
    "b = np.arange(10)*2\n",
    "print 'a:', a\n",
    "print 'b:', b\n",
    "\n",
    "# note the argument should be a tuple\n",
    "concat = np.concatenate( (a, b) )\n",
    "print 'concat shape', concat.shape\n",
    "print 'concat:', concat\n",
    "\n",
    "# the argument also should be a tuple\n",
    "col_stak = np.column_stack( (a, b) )\n",
    "print 'col_stack shape:', col_stak.shape\n",
    "print 'col_stack:\\n', col_stak\n"
   ]
  },
  {
   "cell_type": "markdown",
   "metadata": {},
   "source": [
    "## Tiny Breakout: Is there a np.row_stack?  \n",
    "\n",
    "## And if so, what's the relationship between the results of column_stack() and row_stack() performed on the same two arrays?\n",
    "\n",
    "\n",
    "## Try it out!"
   ]
  },
  {
   "cell_type": "code",
   "execution_count": 6,
   "metadata": {
    "collapsed": false
   },
   "outputs": [
    {
     "name": "stdout",
     "output_type": "stream",
     "text": [
      "[ True False]\n",
      "False\n"
     ]
    }
   ],
   "source": [
    "# Try out .all()\n",
    "a = np.array([0, 0])\n",
    "b = np.array([0, 1])\n",
    "print a == b\n",
    "print (a == b).all()"
   ]
  },
  {
   "cell_type": "markdown",
   "metadata": {},
   "source": [
    "##     iii)  What xy is in the function for warp()\n",
    "\n",
    "\n",
    "\n",
    "## In the cell below xy contains all possible pairs of coordinates (x, y).  \n",
    "## So for a 64x64 image, xy is\n",
    "    \n",
    "###    (0, 0)\n",
    "###    (0, 1)\n",
    "###    (0, 2)\n",
    "###    .\n",
    "###    .\n",
    "###    .\n",
    "###    (0, 63)\n",
    "\n",
    "###    Then \n",
    "###    (1, 0)\n",
    "###    (1, 1)\n",
    "###    (1, 2)\n",
    "###    .\n",
    "###    .\n",
    "###    .\n",
    "###    (1, 63)\n",
    "\n",
    "###    And finally \n",
    "###    (63, 0)\n",
    "###    (63, 1)\n",
    "###    (63, 2)\n",
    "###    .\n",
    "###    .\n",
    "###    .\n",
    "###    (63, 63)\n",
    "    \n",
    "## Thus xy is a 64^2 x 2, or 4096x2 array.\n"
   ]
  },
  {
   "cell_type": "markdown",
   "metadata": {},
   "source": [
    "## Mini-breakout: Given two arrays\n",
    "\n",
    "a = np.arange(5)\n",
    "\n",
    "b = np.arange(5)\n",
    "\n",
    "## Build an array that is 25x2 and contains all possible combinations of the elments in a and b.\n"
   ]
  },
  {
   "cell_type": "markdown",
   "metadata": {},
   "source": [
    "## Now, let's at the fisheye example again.\n",
    "\n",
    "## First let's make a smaller image."
   ]
  },
  {
   "cell_type": "code",
   "execution_count": null,
   "metadata": {
    "collapsed": false
   },
   "outputs": [],
   "source": [
    "%matplotlib inline\n",
    "\n",
    "'''\n",
    "Cut out the central part of the lena image\n",
    "'''\n",
    "\n",
    "import matplotlib.pyplot as plt\n",
    "import matplotlib.image as mpimg\n",
    "import numpy as np\n",
    "\n",
    "from skimage import transform, data, io\n",
    "\n",
    "\n",
    "\n",
    "lena = mpimg.imread('lena512.jpg')\n",
    "ctr = [lena.shape[0]/2, lena.shape[1]/2] \n",
    "\n",
    "\n",
    "# following block: select the central 64x64 pixels\n",
    "pix_num = 32\n",
    "print ctr\n",
    "lena_eye = lena[ctr[0] - pix_num : ctr[0] + pix_num, ctr[1] - pix_num : ctr[1] + pix_num]\n",
    "plt.figure()\n",
    "plt.imshow(lena_eye, cmap = plt.cm.gray)\n",
    "plt.show()\n"
   ]
  },
  {
   "cell_type": "code",
   "execution_count": null,
   "metadata": {
    "collapsed": false
   },
   "outputs": [],
   "source": [
    "'''\n",
    "\n",
    "Note: I have added two keyword arguments to fisheye(): a and b\n",
    "\n",
    "'''\n",
    "def fisheye(xy, a = 2.1, b = 1.8):\n",
    "    \n",
    "    '''\n",
    "    xy are the coordinates distilled from the image.  \n",
    "    \n",
    "    If the image is n x n, then xy is n^2 x 2.\n",
    "    \n",
    "    Reference:\n",
    "    \n",
    "    http://scikit-image.org/docs/dev/api/skimage.transform.html\n",
    "    \n",
    "    Source code:\n",
    "    \n",
    "    https://github.com/scikit-image/scikit-image/blob/master/skimage/transform/_geometric.py#L1171\n",
    "    \n",
    "    '''\n",
    "    \n",
    "    # The of meaning of mean: If the xy is (4096, 2) then take average along the direction \n",
    "    # of 4096.\n",
    "    # Thus center is a 2-element array -- not the most efficient way: \n",
    "    # one only needs to go through 64 elements to find the average of x or y.\n",
    "    # But it works.\n",
    "    center = np.mean(xy, axis=0)\n",
    "    xc, yc = (xy - center).T\n",
    "\n",
    "    # advantage of ipdb over pdb: remembers history.\n",
    "    #import ipdb; ipdb.set_trace()\n",
    "    # In ipdb, do\n",
    "    # p xy.shape\n",
    "    # p xy\n",
    "    # p center\n",
    "    # p xc.shape\n",
    "    # p xc\n",
    "\n",
    "    # Polar coordinates\n",
    "    r = np.sqrt(xc**2 + yc**2)\n",
    "    theta = np.arctan2(yc, xc)\n",
    "\n",
    "    r = 0.8 * np.exp(r**(1/a) / b)\n",
    "\n",
    "    # returns an array with the same dimension as the input xy: 4096x2.\n",
    "    # which then gets associated with the image array.\n",
    "    return np.column_stack((r * np.cos(theta), r * np.sin(theta))) + center\n",
    "\n",
    "# Note how the arguments to fisheye() were specified.\n",
    "out = transform.warp(lena_eye, inverse_map = fisheye, map_args = {'a': 2.1, 'b': 1.8})\n",
    "# Now try this \n",
    "#out = transform.warp(lena_eye, inverse_map = fisheye, map_args = {'a': 2., 'b': 1.5})\n",
    "\n",
    "# The statement, f, (ax, ax1) = ... creates a figure and two subplots, \n",
    "# or in matplotlib parlance, \"axes\".\n",
    "# xticks = [] makes the xticks go away.\n",
    "f, (ax0, ax1) = plt.subplots(1, 2, subplot_kw=dict(xticks=[], yticks=[]))\n",
    "ax0.imshow(lena_eye, cmap = plt.cm.Greys_r)\n",
    "ax1.imshow(out, cmap = plt.cm.Greys_r)\n",
    "\n",
    "plt.show()"
   ]
  },
  {
   "cell_type": "markdown",
   "metadata": {},
   "source": [
    "## Breakout 3\n",
    "\n",
    "## Write a function that rotates an image by a given angle, theta: \n",
    "\n",
    "## rotate(xy, theta = np.pi/2, blowup = 1.)\n",
    "\n",
    "\n",
    "### Using\n",
    "\n",
    "##  x_rot = x\\*cos(theta) - y\\*sin(theta)\n",
    "##  y_rot = x\\*cos(theta) - y\\*sin(theta)\n",
    "\n",
    "## Remember just as in fisheye(), x and y are measured from the center of the image.\n",
    "\n",
    "## Two keyword arguments:\n",
    "\n",
    "## - theta\n",
    "## - blowup: can be used to enlarge or shrink the image\n",
    "\n"
   ]
  },
  {
   "cell_type": "code",
   "execution_count": null,
   "metadata": {
    "collapsed": false
   },
   "outputs": [],
   "source": [
    "%matplotlib inline\n",
    "'''\n",
    "\n",
    "pyplot.clf()\n",
    "\n",
    "'''\n",
    "import matplotlib.pyplot as plt\n",
    "from IPython import display\n",
    "import numpy as np\n",
    "\n",
    "plt.plot(np.random.randn(100))\n",
    "#plt.clf()"
   ]
  },
  {
   "cell_type": "code",
   "execution_count": null,
   "metadata": {
    "collapsed": false
   },
   "outputs": [],
   "source": [
    "%matplotlib inline\n",
    "'''\n",
    "\n",
    "pyplot.gcf()\n",
    "\n",
    "'''\n",
    "import matplotlib.pyplot as plt\n",
    "from IPython import display\n",
    "import numpy as np\n",
    "\n",
    "\n",
    "plt.plot(np.random.randn(100))\n",
    "\n",
    "#plt.gcf(): get current axes -- \n",
    "#so that ticks can be easily removed...\n",
    "ax = plt.gca()   \n",
    "#Removing tick marks -- try running without the following two lines.\n",
    "ax.axes.get_xaxis().set_ticks([])\n",
    "ax.axes.get_yaxis().set_ticks([])\n",
    "\n",
    "# plt.gcf(): get current figure\n",
    "fig = plt.gcf()\n"
   ]
  },
  {
   "cell_type": "code",
   "execution_count": null,
   "metadata": {
    "collapsed": false
   },
   "outputs": [],
   "source": [
    "%matplotlib inline\n",
    "'''\n",
    "\n",
    "IPythnon.display.display\n",
    "\n",
    "'''\n",
    "from IPython import display\n",
    "display.display(fig)\n",
    "display.display(plt.clf())\n"
   ]
  },
  {
   "cell_type": "code",
   "execution_count": null,
   "metadata": {
    "collapsed": false
   },
   "outputs": [],
   "source": [
    "%matplotlib inline\n",
    "'''\n",
    "\n",
    "Let's now try to understand what's going on with ipdb.\n",
    "\n",
    "Wait: to clear the output until new output is available to replace it.\n",
    "\n",
    "\n",
    "1. Comment out plt.clf()\n",
    "\n",
    "'''\n",
    "import matplotlib.pyplot as plt\n",
    "from IPython import display\n",
    "import time\n",
    "for i in range(10):\n",
    "    plt.plot(np.random.randn(100))\n",
    "    ax = plt.gca()   \n",
    "    ax.axes.get_xaxis().set_ticks([])\n",
    "    ax.axes.get_yaxis().set_ticks([])\n",
    "    # clear_output() removes the figure altogether -- \n",
    "    # try running with this line blocked.\n",
    "    # wait = True: keep the figure until the next figure shows up.\n",
    "    display.clear_output(wait=True)\n",
    "        \n",
    "    fig = plt.gcf()\n",
    "    display.display(fig)\n",
    "\n",
    "    display.display(plt.clf())\n",
    "    \n"
   ]
  },
  {
   "cell_type": "markdown",
   "metadata": {},
   "source": [
    "## Breakout 4\n",
    "\n",
    "## Write a function, rot_movie(im, nframes = 24)\n",
    "\n",
    "## that can take an image to do this:\n",
    "\n",
    "## - First just do the rotation part.\n",
    "\n",
    "## - Then add the size change part.\n"
   ]
  },
  {
   "cell_type": "markdown",
   "metadata": {
    "collapsed": true
   },
   "source": [
    "## There is a bette way to do a movie \n",
    "## -- we will talk about that in Computational Physics II\n",
    "### (One hint: you make the images and then save them first, and THEN make a movie out of them.)"
   ]
  },
  {
   "cell_type": "markdown",
   "metadata": {},
   "source": [
    "## End of Week 13, Lecture 1"
   ]
  }
 ],
 "metadata": {
  "kernelspec": {
   "display_name": "Python 2",
   "language": "python",
   "name": "python2"
  },
  "language_info": {
   "codemirror_mode": {
    "name": "ipython",
    "version": 2
   },
   "file_extension": ".py",
   "mimetype": "text/x-python",
   "name": "python",
   "nbconvert_exporter": "python",
   "pygments_lexer": "ipython2",
   "version": "2.7.9"
  }
 },
 "nbformat": 4,
 "nbformat_minor": 0
}
