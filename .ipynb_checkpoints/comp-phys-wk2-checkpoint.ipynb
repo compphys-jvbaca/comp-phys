{
 "cells": [
  {
   "cell_type": "code",
   "execution_count": 14,
   "metadata": {
    "collapsed": false
   },
   "outputs": [
    {
     "name": "stdout",
     "output_type": "stream",
     "text": [
      "with the for loop, the sum is 1.64393456668\n",
      "correct answer: 1.64493406685\n"
     ]
    }
   ],
   "source": [
    "from math import pi\n",
    "s = 0 \n",
    "max = 1000 \n",
    "\n",
    "for i in range (max):\n",
    "    s+= 1./(i+1)**2\n",
    "    \n",
    "print 'with the for loop, the sum is', s\n",
    "\n",
    "i=1\n",
    "s=0\n",
    "\n",
    "while i <= max:\n",
    "    s += 1./i**2\n",
    "    i = i+1\n",
    "print 'correct answer:', pi**2/6\n"
   ]
  },
  {
   "cell_type": "code",
   "execution_count": 18,
   "metadata": {
    "collapsed": false
   },
   "outputs": [
    {
     "name": "stdout",
     "output_type": "stream",
     "text": [
      "hello world\n"
     ]
    }
   ],
   "source": [
    "a = 'hello'\n",
    "space = ' '\n",
    "b = 'world'\n",
    "print a + space +b\n"
   ]
  },
  {
   "cell_type": "code",
   "execution_count": 23,
   "metadata": {
    "collapsed": false
   },
   "outputs": [
    {
     "name": "stdout",
     "output_type": "stream",
     "text": [
      "False\n",
      "True\n",
      "True\n",
      "True\n",
      "True\n",
      "True\n",
      "True\n"
     ]
    }
   ],
   "source": [
    "print bool(0.)\n",
    "print bool(98)\n",
    "print bool(23)\n",
    "print bool(34)\n",
    "print bool(55)\n",
    "print bool(20)\n",
    "print bool(1)\n"
   ]
  },
  {
   "cell_type": "code",
   "execution_count": 5,
   "metadata": {
    "collapsed": false
   },
   "outputs": [
    {
     "name": "stdout",
     "output_type": "stream",
     "text": [
      "True\n",
      "  -20  -4.0\n",
      "True\n",
      "  -15   5.0\n",
      "True\n",
      "   -5  23.0\n",
      "True\n",
      "    5  41.0\n",
      "True\n",
      "   10  50.0\n",
      "True\n",
      "   15  59.0\n",
      "True\n",
      "   20  68.0\n"
     ]
    }
   ],
   "source": [
    "Cdegrees = [-20, -15,-5,5,10,15,20]\n",
    "for C in Cdegrees:\n",
    "    print C in Cdegrees\n",
    "    F = (9.0/5)*C +32.\n",
    "    print '%5d %5.1f' % (C,F)"
   ]
  },
  {
   "cell_type": "code",
   "execution_count": 1,
   "metadata": {
    "collapsed": false
   },
   "outputs": [
    {
     "name": "stdout",
     "output_type": "stream",
     "text": [
      " C    F\n",
      " -100 -148.0\n",
      "  -95 -139.0\n",
      "  -90 -130.0\n",
      "  -85 -121.0\n",
      "  -80 -112.0\n",
      "  -75 -103.0\n",
      "  -70 -94.0\n",
      "  -65 -85.0\n",
      "  -60 -76.0\n",
      "  -55 -67.0\n",
      "  -50 -58.0\n",
      "  -45 -49.0\n",
      "  -40 -40.0\n",
      "  -35 -31.0\n",
      "  -30 -22.0\n",
      "  -25 -13.0\n",
      "  -20  -4.0\n",
      "  -15   5.0\n",
      "  -10  14.0\n",
      "   -5  23.0\n",
      "    0  32.0\n",
      "    5  41.0\n",
      "   10  50.0\n",
      "   15  59.0\n",
      "   20  68.0\n",
      "   25  77.0\n",
      "   30  86.0\n",
      "   35  95.0\n",
      "   40 104.0\n",
      "   45 113.0\n",
      "   50 122.0\n",
      "   55 131.0\n",
      "   60 140.0\n",
      "   65 149.0\n",
      "   70 158.0\n",
      "   75 167.0\n",
      "   80 176.0\n",
      "   85 185.0\n",
      "   90 194.0\n",
      "   95 203.0\n",
      "  100 212.0\n"
     ]
    }
   ],
   "source": [
    "#breakout: convert the above into a while loop\n",
    "\n",
    "\n",
    "while c <= 100:\n",
    "    f = (9.0/5)*c +32.\n",
    "    print '%5d %5.1f' % (c,f)\n",
    "    c += 5\n",
    "\n"
   ]
  },
  {
   "cell_type": "code",
   "execution_count": null,
   "metadata": {
    "collapsed": true
   },
   "outputs": [],
   "source": [
    "import copy \n",
    "c= copy.comp(a)\n",
    "print 'c== a:', c ==a\n"
   ]
  },
  {
   "cell_type": "code",
   "execution_count": null,
   "metadata": {
    "collapsed": true
   },
   "outputs": [],
   "source": [
    "#lost the variables...\n",
    "\n",
    "a.append(1.4e5)\n",
    "print 'a:', a\n",
    "print 'r:', r\n",
    "print 's:', s\n",
    "print 'c:', c\n",
    "\n",
    "#there is a huge difference between r and s"
   ]
  },
  {
   "cell_type": "code",
   "execution_count": 3,
   "metadata": {
    "collapsed": false
   },
   "outputs": [
    {
     "data": {
      "text/plain": [
       "[1]"
      ]
     },
     "execution_count": 3,
     "metadata": {},
     "output_type": "execute_result"
    }
   ],
   "source": [
    "range( 1, 3, 5)"
   ]
  },
  {
   "cell_type": "code",
   "execution_count": 7,
   "metadata": {
    "collapsed": false
   },
   "outputs": [
    {
     "name": "stdout",
     "output_type": "stream",
     "text": [
      "[-16, -11, -1, 9, 14, 19, 24] 24\n"
     ]
    }
   ],
   "source": [
    "for i, c in enumerate(Cdegrees):\n",
    "    Cdegrees[i] = c+2*1\n",
    "print Cdegrees, Cdegrees[i]\n"
   ]
  },
  {
   "cell_type": "code",
   "execution_count": 10,
   "metadata": {
    "collapsed": false
   },
   "outputs": [
    {
     "ename": "TypeError",
     "evalue": "range() integer step argument expected, got float.",
     "output_type": "error",
     "traceback": [
      "\u001b[0;31m---------------------------------------------------------------------------\u001b[0m",
      "\u001b[0;31mTypeError\u001b[0m                                 Traceback (most recent call last)",
      "\u001b[0;32m<ipython-input-10-176e6acc78d4>\u001b[0m in \u001b[0;36m<module>\u001b[0;34m()\u001b[0m\n\u001b[1;32m      4\u001b[0m \u001b[0mn\u001b[0m\u001b[0;34m=\u001b[0m\u001b[0;36m0.5\u001b[0m\u001b[0;34m\u001b[0m\u001b[0m\n\u001b[1;32m      5\u001b[0m \u001b[0;32mwhile\u001b[0m \u001b[0mn\u001b[0m\u001b[0;34m<=\u001b[0m\u001b[0;36m20\u001b[0m\u001b[0;34m:\u001b[0m\u001b[0;34m\u001b[0m\u001b[0m\n\u001b[0;32m----> 6\u001b[0;31m     \u001b[0mCdegrees\u001b[0m\u001b[0;34m=\u001b[0m \u001b[0mrange\u001b[0m \u001b[0;34m(\u001b[0m\u001b[0;34m-\u001b[0m\u001b[0;36m5\u001b[0m\u001b[0;34m,\u001b[0m\u001b[0;36m5\u001b[0m\u001b[0;34m,\u001b[0m\u001b[0mn\u001b[0m\u001b[0;34m)\u001b[0m\u001b[0;34m\u001b[0m\u001b[0m\n\u001b[0m\u001b[1;32m      7\u001b[0m     \u001b[0;32mprint\u001b[0m \u001b[0mCdegrees\u001b[0m\u001b[0;34m\u001b[0m\u001b[0m\n\u001b[1;32m      8\u001b[0m     \u001b[0mn\u001b[0m\u001b[0;34m+=\u001b[0m\u001b[0;36m0.5\u001b[0m\u001b[0;34m\u001b[0m\u001b[0m\n",
      "\u001b[0;31mTypeError\u001b[0m: range() integer step argument expected, got float."
     ]
    }
   ],
   "source": [
    "# convert degrees celsius from -5 to 5 in increments of -0.5\n",
    "\n",
    "\n",
    "n=0.5\n",
    "while n<=20:\n",
    "    Cdegrees= range (-5,5,n)\n",
    "    print Cdegrees\n",
    "    n+=0.5"
   ]
  },
  {
   "cell_type": "code",
   "execution_count": 20,
   "metadata": {
    "collapsed": false
   },
   "outputs": [],
   "source": [
    "n=21\n",
    "Fdegrees=[(-5.+.5*i)*(9.0/5)+32 for i in range(n)]"
   ]
  },
  {
   "cell_type": "code",
   "execution_count": 21,
   "metadata": {
    "collapsed": false
   },
   "outputs": [
    {
     "name": "stdout",
     "output_type": "stream",
     "text": [
      "-16.0  23.0\n",
      "-11.0  23.9\n",
      " -1.0  24.8\n",
      "  9.0  25.7\n",
      " 14.0  26.6\n",
      " 19.0  27.5\n",
      " 24.0  28.4\n"
     ]
    }
   ],
   "source": [
    "zip(Cdegrees, Cdegrees)\n",
    "for C, F in zip(Cdegrees, Fdegrees):\n",
    "    print '%5.1f %5.1f' % (C,F)"
   ]
  },
  {
   "cell_type": "code",
   "execution_count": 25,
   "metadata": {
    "collapsed": false
   },
   "outputs": [
    {
     "ename": "AttributeError",
     "evalue": "'int' object has no attribute '5'",
     "output_type": "error",
     "traceback": [
      "\u001b[0;31m---------------------------------------------------------------------------\u001b[0m",
      "\u001b[0;31mAttributeError\u001b[0m                            Traceback (most recent call last)",
      "\u001b[0;32m<ipython-input-25-6448a81dbb4c>\u001b[0m in \u001b[0;36m<module>\u001b[0;34m()\u001b[0m\n\u001b[1;32m      1\u001b[0m \u001b[0;32mfor\u001b[0m \u001b[0mC\u001b[0m\u001b[0;34m,\u001b[0m \u001b[0mF\u001b[0m \u001b[0;32min\u001b[0m \u001b[0mzip\u001b[0m\u001b[0;34m(\u001b[0m\u001b[0mCdegrees\u001b[0m\u001b[0;34m,\u001b[0m \u001b[0mFdegrees\u001b[0m\u001b[0;34m)\u001b[0m\u001b[0;34m:\u001b[0m\u001b[0;34m\u001b[0m\u001b[0m\n\u001b[0;32m----> 2\u001b[0;31m     \u001b[0;32mprint\u001b[0m \u001b[0;34m\"{.5.1f}, {.5.1f}\"\u001b[0m\u001b[0;34m.\u001b[0m\u001b[0mformat\u001b[0m\u001b[0;34m(\u001b[0m\u001b[0mC\u001b[0m\u001b[0;34m,\u001b[0m\u001b[0mF\u001b[0m\u001b[0;34m)\u001b[0m\u001b[0;34m\u001b[0m\u001b[0m\n\u001b[0m\u001b[1;32m      3\u001b[0m \u001b[0;34m\u001b[0m\u001b[0m\n",
      "\u001b[0;31mAttributeError\u001b[0m: 'int' object has no attribute '5'"
     ]
    }
   ],
   "source": [
    "for C, F in zip(Cdegrees, Fdegrees):\n",
    "    print \"{.5.1f}, {.5.1f}\".format(C,F)\n",
    "    "
   ]
  },
  {
   "cell_type": "code",
   "execution_count": 26,
   "metadata": {
    "collapsed": false
   },
   "outputs": [
    {
     "data": {
      "text/plain": [
       "[-0.6956521739130435,\n",
       " -0.46025104602510464,\n",
       " -0.04032258064516129,\n",
       " 0.3501945525291829,\n",
       " 0.5263157894736842,\n",
       " 0.6909090909090909,\n",
       " 0.8450704225352114]"
      ]
     },
     "execution_count": 26,
     "metadata": {},
     "output_type": "execute_result"
    }
   ],
   "source": [
    "[C/F for C, F in zip(Cdegrees, Fdegrees)]"
   ]
  },
  {
   "cell_type": "code",
   "execution_count": 28,
   "metadata": {
    "collapsed": false
   },
   "outputs": [
    {
     "data": {
      "text/plain": [
       "[[-16, 23.0],\n",
       " [-11, 23.9],\n",
       " [-1, 24.8],\n",
       " [9, 25.7],\n",
       " [14, 26.6],\n",
       " [19, 27.5],\n",
       " [24, 28.4]]"
      ]
     },
     "execution_count": 28,
     "metadata": {},
     "output_type": "execute_result"
    }
   ],
   "source": [
    "[[C,F] for C,F in zip(Cdegrees, Fdegrees)]"
   ]
  },
  {
   "cell_type": "code",
   "execution_count": 30,
   "metadata": {
    "collapsed": false
   },
   "outputs": [
    {
     "data": {
      "text/plain": [
       "1"
      ]
     },
     "execution_count": 30,
     "metadata": {},
     "output_type": "execute_result"
    }
   ],
   "source": [
    "table1=[[1,1,3,5,7,8,5,8,4,7,4,5,8,5,7,7,4,6,78,5,8,6,4,7,6,3,56]\n",
    "table1[0:2][0]\n"
   ]
  },
  {
   "cell_type": "code",
   "execution_count": 2,
   "metadata": {
    "collapsed": false
   },
   "outputs": [
    {
     "ename": "TypeError",
     "evalue": "append() takes exactly one argument (3 given)",
     "output_type": "error",
     "traceback": [
      "\u001b[0;31m---------------------------------------------------------------------------\u001b[0m",
      "\u001b[0;31mTypeError\u001b[0m                                 Traceback (most recent call last)",
      "\u001b[0;32m<ipython-input-2-e4ad5a610b0f>\u001b[0m in \u001b[0;36m<module>\u001b[0;34m()\u001b[0m\n\u001b[1;32m      1\u001b[0m \u001b[0mscores\u001b[0m \u001b[0;34m=\u001b[0m \u001b[0;34m[\u001b[0m\u001b[0;34m]\u001b[0m\u001b[0;34m\u001b[0m\u001b[0m\n\u001b[0;32m----> 2\u001b[0;31m \u001b[0mscores\u001b[0m\u001b[0;34m.\u001b[0m\u001b[0mappend\u001b[0m\u001b[0;34m(\u001b[0m\u001b[0;34m[\u001b[0m\u001b[0;36m12\u001b[0m\u001b[0;34m,\u001b[0m\u001b[0;36m16\u001b[0m\u001b[0;34m,\u001b[0m\u001b[0;36m11\u001b[0m\u001b[0;34m,\u001b[0m\u001b[0;36m12\u001b[0m\u001b[0;34m]\u001b[0m\u001b[0;34m,\u001b[0m\u001b[0;34m[\u001b[0m\u001b[0;36m9\u001b[0m\u001b[0;34m]\u001b[0m\u001b[0;34m,\u001b[0m\u001b[0;34m[\u001b[0m\u001b[0;36m6\u001b[0m\u001b[0;34m,\u001b[0m\u001b[0;36m9\u001b[0m\u001b[0;34m,\u001b[0m\u001b[0;36m7\u001b[0m\u001b[0;34m,\u001b[0m\u001b[0;36m4\u001b[0m\u001b[0;34m,\u001b[0m\u001b[0;36m3\u001b[0m\u001b[0;34m,\u001b[0m\u001b[0;36m2\u001b[0m\u001b[0;34m,\u001b[0m\u001b[0;36m3\u001b[0m\u001b[0;34m]\u001b[0m\u001b[0;34m)\u001b[0m\u001b[0;34m\u001b[0m\u001b[0m\n\u001b[0m",
      "\u001b[0;31mTypeError\u001b[0m: append() takes exactly one argument (3 given)"
     ]
    }
   ],
   "source": [
    "scores = []\n",
    "scores.append([12,16,11,12],[9],[6,9,7,4,3,2,3])\n"
   ]
  },
  {
   "cell_type": "code",
   "execution_count": 4,
   "metadata": {
    "collapsed": false
   },
   "outputs": [
    {
     "name": "stdout",
     "output_type": "stream",
     "text": [
      "50.0\n"
     ]
    }
   ],
   "source": [
    "def F(C):\n",
    "    return (9./5)*C + 32.\n",
    "a = 10\n",
    "F1 = F(a)\n",
    "print F1\n",
    "\n"
   ]
  },
  {
   "cell_type": "code",
   "execution_count": 16,
   "metadata": {
    "collapsed": false
   },
   "outputs": [],
   "source": [
    "'''\n",
    "-Converts celcius temperatures into farenheight temperature-\n",
    "\n",
    ">>> temp_conv(0)\n",
    "32.0\n",
    "\n",
    ">>> temp_conv(117)\n",
    "242.6\n",
    "\n",
    ">>> temp_conv(77.32)\n",
    "171.176\n",
    "\n",
    ">>> temp_conv(52./79)\n",
    "33.18481012658228\n",
    "\n",
    "'''\n",
    "\n",
    "def temp_conv(c):\n",
    "    f = (9.0/5)*c +32.\n",
    "    return f\n",
    "\n",
    "temp_conv(10)\n",
    "\n",
    "if __name__ == \"__main__\":\n",
    "    import doctest\n",
    "    doctest.testmod() \n",
    "\n"
   ]
  }
 ],
 "metadata": {
  "kernelspec": {
   "display_name": "Python 2",
   "language": "python",
   "name": "python2"
  },
  "language_info": {
   "codemirror_mode": {
    "name": "ipython",
    "version": 2
   },
   "file_extension": ".py",
   "mimetype": "text/x-python",
   "name": "python",
   "nbconvert_exporter": "python",
   "pygments_lexer": "ipython2",
   "version": "2.7.9"
  }
 },
 "nbformat": 4,
 "nbformat_minor": 0
}
