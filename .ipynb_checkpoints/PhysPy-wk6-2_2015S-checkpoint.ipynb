{
 "cells": [
  {
   "cell_type": "markdown",
   "metadata": {},
   "source": [
    "# Topics\n",
    "\n",
    "## Interactive Command Line Input\n",
    "### raw_input()\n",
    "## Error and Exception Handling \n",
    "### 1. try...except\n",
    "### 2. if...then\n",
    "\n",
    "\n",
    "\n",
    "\n",
    "\n"
   ]
  },
  {
   "cell_type": "markdown",
   "metadata": {},
   "source": [
    "## Interactive Command Line Input\n",
    "### raw_input()"
   ]
  },
  {
   "cell_type": "markdown",
   "metadata": {
    "collapsed": false
   },
   "source": [
    "## a = raw_input(\"Enter a letter:\\n\")"
   ]
  },
  {
   "cell_type": "code",
   "execution_count": null,
   "metadata": {
    "collapsed": false
   },
   "outputs": [],
   "source": [
    "a = raw_input(\"Enter a number:\\n\")\n",
    "print type(a)"
   ]
  },
  {
   "cell_type": "code",
   "execution_count": null,
   "metadata": {
    "collapsed": false
   },
   "outputs": [],
   "source": [
    "a = float(raw_input(\"Enter a number:\\n\"))\n",
    "type(a)"
   ]
  },
  {
   "cell_type": "markdown",
   "metadata": {},
   "source": [
    "## Quick Breakout: Write a program that takes an input temperature in C and convert it to F."
   ]
  },
  {
   "cell_type": "markdown",
   "metadata": {},
   "source": [
    "## Error and Exception Handling \n",
    "### 1. try...except\n",
    "### See c2f_try_except.py and c2f_catch_error_by_if.py"
   ]
  },
  {
   "cell_type": "markdown",
   "metadata": {},
   "source": [
    "## Breakout: Write a python program that does the following:\n",
    "\n",
    "### 1. It takes an input argument at command line by using argparse\n",
    "### 2. Use try...except to catch the error if the user didn't enter the input argument\n",
    "### 3. If the error in 2 is caught, prompt the user to enter a temperature\n",
    "### 4. If the user input is of the wrong type, give the user an option of terminating the program.\n",
    "### 5. If the user choose to NOT terminate, prompt the user again for an input temperature.\n",
    "\n",
    "### Call it c2f_try_except_prompt.py."
   ]
  },
  {
   "cell_type": "markdown",
   "metadata": {},
   "source": [
    "##End of wk 6-2"
   ]
  }
 ],
 "metadata": {
  "kernelspec": {
   "display_name": "Python 2",
   "language": "python",
   "name": "python2"
  },
  "language_info": {
   "codemirror_mode": {
    "name": "ipython",
    "version": 2
   },
   "file_extension": ".py",
   "mimetype": "text/x-python",
   "name": "python",
   "nbconvert_exporter": "python",
   "pygments_lexer": "ipython2",
   "version": "2.7.9"
  }
 },
 "nbformat": 4,
 "nbformat_minor": 0
}
