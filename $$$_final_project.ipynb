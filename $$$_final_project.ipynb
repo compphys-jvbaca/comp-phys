{
 "cells": [
  {
   "cell_type": "code",
   "execution_count": 3,
   "metadata": {
    "collapsed": false
   },
   "outputs": [],
   "source": [
    "'''\n",
    "\n",
    "pattern_recog_func.py\n",
    "\n",
    "'''\n",
    "\n",
    "from __future__ import print_function, division\n",
    "import numpy as np\n",
    "import matplotlib.pyplot as plt\n",
    "from scipy import stats\n",
    "import seaborn as sns; sns.set()\n",
    "from sklearn import decomposition\n",
    "from sklearn.decomposition import PCA\n",
    "from sklearn.datasets import load_digits\n",
    "from sklearn import svm #support vector machine\n",
    "\n",
    "def interpol_im(im, dim1 = 8, dim2 = 8, plot_new_im = False,\\\n",
    "                cmap = 'binary', axis_off = False):\n",
    "    \n",
    "    x = np.arange(im.shape[1])\n",
    "    y = np.arange(im.shape[0])\n",
    "\n",
    "    f2d = interp2d(x, y, im)\n",
    "\n",
    "    x_new = np.linspace(0, im.shape[1], dim1)\n",
    "    y_new = np.linspace(0, im.shape[0], dim2)\n",
    "\n",
    "    im_new = f2d(x_new, y_new)\n",
    "    \n",
    "    if plot_new_im == True:\n",
    "        plt.imshow(im_new, cmap = cmap, interpolation = \"nearest\")\n",
    "        if axis_off:\n",
    "            plt.grid('off')\n",
    "        plt.show()\n",
    "    \n",
    "    return np.array([let_new_new.flatten()])\n",
    "    \n",
    "def pca_svm_pred(imfile, md_pca, md_clf, dim1 = 45, dim2 = 60): #md_pca = PCA(n_comp),md_clf = classification  \n",
    "    \n",
    "    image = mpimg.imread('letter'+str(let_file)+'.png')\n",
    "    image_red = image[:,:,0]\n",
    "    interpol_image = interpol_im(image_red)\n",
    "    Xproj = md_pca.fit_transform(imfile)\n",
    "    \n",
    "    \n",
    "# def pca_X(X, n_comp = 10):\n",
    "    \n",
    "# def rescale_pixel(X, unseen, ind = 0):\n",
    "    \n",
    "# def svm_train(X, y, gamma = 0.001, C = 100):"
   ]
  },
  {
   "cell_type": "code",
   "execution_count": null,
   "metadata": {
    "collapsed": true
   },
   "outputs": [],
   "source": [
    "'''\n",
    "\n",
    "dig_recog.py\n",
    "\n",
    "'''"
   ]
  },
  {
   "cell_type": "code",
   "execution_count": null,
   "metadata": {
    "collapsed": true
   },
   "outputs": [],
   "source": [
    "'''\n",
    "\n",
    "face_recog.py\n",
    "\n",
    "'''"
   ]
  }
 ],
 "metadata": {
  "kernelspec": {
   "display_name": "Python 2",
   "language": "python",
   "name": "python2"
  },
  "language_info": {
   "codemirror_mode": {
    "name": "ipython",
    "version": 2
   },
   "file_extension": ".py",
   "mimetype": "text/x-python",
   "name": "python",
   "nbconvert_exporter": "python",
   "pygments_lexer": "ipython2",
   "version": "2.7.9"
  }
 },
 "nbformat": 4,
 "nbformat_minor": 0
}
